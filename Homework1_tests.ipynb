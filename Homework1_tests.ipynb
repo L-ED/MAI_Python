{
 "cells": [
  {
   "cell_type": "code",
   "execution_count": 1,
   "metadata": {},
   "outputs": [],
   "source": [
    "from funcs.homework1 import *"
   ]
  },
  {
   "cell_type": "code",
   "execution_count": 3,
   "metadata": {},
   "outputs": [],
   "source": [
    "drone_list = [\"DJI Mavic 2 Pro\", \"DJI Mavic 2 Zoom\", \"DJI Mavic 2 Enterprise Advanced\", \"AUTEL Evo II Pro\", \"DJI Mini 2\", \"Autel Evo Nano\", \"Autel Evo Lite Plus\", \"Parrot Anafi\", \"Dji Inspire 2\", \"DJI Mavic 3\", \"DJI Mavic Air2s\", \"Ryze Tello\", \"Eachine Trashcan\"]\n",
    "\n",
    "drone_weight_list = [903, 900, 920, 980, 249, 249, 600, 540, 1500, 1000, 570, 130, 110]\n",
    "\n",
    "vendors_names = [\"DJI\", \"Autel\", \"Parrot\", \"Ryze\", \"Eachine\"]"
   ]
  },
  {
   "cell_type": "markdown",
   "metadata": {},
   "source": [
    "# TODO 1"
   ]
  },
  {
   "cell_type": "code",
   "execution_count": 4,
   "metadata": {},
   "outputs": [
    {
     "name": "stdout",
     "output_type": "stream",
     "text": [
      "Vendor DJI have 7 products \n",
      "\n",
      "\t DJI Mavic 2 Pro \n",
      "\n",
      "\t DJI Mavic 2 Zoom \n",
      "\n",
      "\t DJI Mavic 2 Enterprise Advanced \n",
      "\n",
      "\t DJI Mini 2 \n",
      "\n",
      "\t DJI Inspire 2 \n",
      "\n",
      "\t DJI Mavic 3 \n",
      "\n",
      "\t DJI Mavic Air2s \n",
      "\n",
      "Vendor Autel have 3 products \n",
      "\n",
      "\t Autel Evo II Pro \n",
      "\n",
      "\t Autel Evo Nano \n",
      "\n",
      "\t Autel Evo Lite Plus \n",
      "\n"
     ]
    }
   ],
   "source": [
    "asks = [\n",
    "    'dji', \n",
    "    'atel', \n",
    "    'autel', \n",
    "    'DJI'\n",
    "    ]\n",
    "\n",
    "task1(asks, drone_list, vendors_names)"
   ]
  },
  {
   "cell_type": "markdown",
   "metadata": {},
   "source": [
    "# TODO 2"
   ]
  },
  {
   "cell_type": "code",
   "execution_count": 4,
   "metadata": {},
   "outputs": [
    {
     "name": "stdout",
     "output_type": "stream",
     "text": [
      "Vendor DJI have 7 products\n",
      "Vendor Autel have 3 products\n",
      "Vendor Parrot have 1 products\n",
      "Vendor Ryze have 1 products\n",
      "Vendor Eachine have 1 products\n"
     ]
    }
   ],
   "source": [
    "task2(drone_list, vendors_names)"
   ]
  },
  {
   "cell_type": "markdown",
   "metadata": {},
   "source": [
    "# TODO 3"
   ]
  },
  {
   "cell_type": "code",
   "execution_count": 6,
   "metadata": {},
   "outputs": [
    {
     "name": "stdout",
     "output_type": "stream",
     "text": [
      "Drone DJI Mavic 2 Pro, with weight 903 must be registered\n",
      "Drone DJI Mavic 2 Zoom, with weight 900 must be registered\n",
      "Drone DJI Mavic 2 Enterprise Advanced, with weight 920 must be registered\n",
      "Drone AUTEL Evo II Pro, with weight 980 must be registered\n",
      "Drone DJI Mini 2, with weight 249 must be registered\n",
      "Drone Autel Evo Nano, with weight 249 must be registered\n",
      "Drone Autel Evo Lite Plus, with weight 600 must be registered\n",
      "Drone Parrot Anafi, with weight 540 must be registered\n",
      "Drone Dji Inspire 2, with weight 1500 must be registered\n",
      "Drone DJI Mavic 3, with weight 1000 must be registered\n",
      "Drone DJI Mavic Air2s, with weight 570 must be registered\n",
      "Drone Ryze Tello, with weight 130 can be not registered\n",
      "Drone Eachine Trashcan, with weight 110 can be not registered\n"
     ]
    }
   ],
   "source": [
    "task3(drone_list, drone_weight_list)"
   ]
  },
  {
   "cell_type": "markdown",
   "metadata": {},
   "source": [
    "# TODO 4"
   ]
  },
  {
   "cell_type": "code",
   "execution_count": 7,
   "metadata": {},
   "outputs": [
    {
     "name": "stdout",
     "output_type": "stream",
     "text": [
      "Drone DJI Mavic 2 Pro, with weight 903 must be registered in flight mode 1\n",
      "Drone DJI Mavic 2 Zoom, with weight 900 must be registered in flight mode 1\n",
      "Drone DJI Mavic 2 Enterprise Advanced, with weight 920 must be registered in flight mode 1\n",
      "Drone AUTEL Evo II Pro, with weight 980 must be registered in flight mode 1\n",
      "Drone DJI Mini 2, with weight 249 must be registered in flight mode 1\n",
      "Drone Autel Evo Nano, with weight 249 must be registered in flight mode 1\n",
      "Drone Autel Evo Lite Plus, with weight 600 must be registered in flight mode 1\n",
      "Drone Parrot Anafi, with weight 540 must be registered in flight mode 1\n",
      "Drone Dji Inspire 2, with weight 1500 must be registered in flight mode 1\n",
      "Drone DJI Mavic 3, with weight 1000 must be registered in flight mode 1\n",
      "Drone DJI Mavic Air2s, with weight 570 must be registered in flight mode 1\n",
      "Drone Ryze Tello, with weight 130 can be not registered in flight mode 1\n",
      "Drone Eachine Trashcan, with weight 110 can be not registered in flight mode 1\n"
     ]
    }
   ],
   "source": [
    "# высота 100 м - не надо, flight_type = 0 \n",
    "# полет над населенным пунктом - надо, flight_type = 1 \n",
    "# вне закрытых зон - не надо, flight_type = 2 \n",
    "# в прямой видимости  - не надо,  flight_type = 3\n",
    "\n",
    "task4(drone_list, drone_weight_list, 1)"
   ]
  },
  {
   "cell_type": "markdown",
   "metadata": {},
   "source": [
    "# TODO 5"
   ]
  },
  {
   "cell_type": "code",
   "execution_count": 6,
   "metadata": {},
   "outputs": [
    {
     "name": "stdout",
     "output_type": "stream",
     "text": [
      "Vendor DJI have 7 products \n",
      "\n",
      "\t Mavic 2 Pro \n",
      "\n",
      "\t Mavic 2 Zoom \n",
      "\n",
      "\t Mavic 2 Enterprise Advanced \n",
      "\n",
      "\t Mini 2 \n",
      "\n",
      "\t Inspire 2 \n",
      "\n",
      "\t Mavic 3 \n",
      "\n",
      "\t Mavic Air2s \n",
      "\n",
      "Vendor Autel have 3 products \n",
      "\n",
      "\t Evo II Pro \n",
      "\n",
      "\t Evo Nano \n",
      "\n",
      "\t Evo Lite Plus \n",
      "\n"
     ]
    }
   ],
   "source": [
    "asks = [\n",
    "    'dji', \n",
    "    'atel', \n",
    "    'autel', \n",
    "    'DJI'\n",
    "    ]\n",
    "\n",
    "\n",
    "task5(asks, drone_list, vendors_names)"
   ]
  }
 ],
 "metadata": {
  "kernelspec": {
   "display_name": "Python 3.6.9 64-bit",
   "language": "python",
   "name": "python3"
  },
  "language_info": {
   "codemirror_mode": {
    "name": "ipython",
    "version": 3
   },
   "file_extension": ".py",
   "mimetype": "text/x-python",
   "name": "python",
   "nbconvert_exporter": "python",
   "pygments_lexer": "ipython3",
   "version": "3.8.10"
  },
  "orig_nbformat": 4,
  "vscode": {
   "interpreter": {
    "hash": "31f2aee4e71d21fbe5cf8b01ff0e069b9275f58929596ceb00d14d90e3e16cd6"
   }
  }
 },
 "nbformat": 4,
 "nbformat_minor": 2
}
