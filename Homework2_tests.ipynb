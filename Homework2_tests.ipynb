{
 "cells": [
  {
   "cell_type": "code",
   "execution_count": 1,
   "metadata": {},
   "outputs": [],
   "source": [
    "from funcs.homework2 import *"
   ]
  },
  {
   "cell_type": "code",
   "execution_count": 2,
   "metadata": {},
   "outputs": [],
   "source": [
    "filepath=\"/home/led/MAI/MAI_Python/flights.json\""
   ]
  },
  {
   "cell_type": "code",
   "execution_count": 3,
   "metadata": {},
   "outputs": [
    {
     "data": {
      "text/plain": [
       "{'pilot1': 1,\n",
       " 'pilot4': 2,\n",
       " 'pilot9': 3,\n",
       " 'pilot5': 3,\n",
       " 'pilot7': 4,\n",
       " 'pilot6': 5,\n",
       " 'pilot2': 5,\n",
       " 'pilot3': 6,\n",
       " 'pilot8': 6}"
      ]
     },
     "execution_count": 3,
     "metadata": {},
     "output_type": "execute_result"
    }
   ],
   "source": [
    "count_missions(filepath)"
   ]
  },
  {
   "cell_type": "code",
   "execution_count": 4,
   "metadata": {},
   "outputs": [
    {
     "data": {
      "text/plain": [
       "['DJI Inspire 2',\n",
       " 'DJI Mavic 2 Pro',\n",
       " 'DJI Mavic 2 Enterprise Advanced',\n",
       " 'DJI Mavic 3',\n",
       " 'DJI Mavic 2 Zoom']"
      ]
     },
     "execution_count": 4,
     "metadata": {},
     "output_type": "execute_result"
    }
   ],
   "source": [
    "take_drones_models(filepath)"
   ]
  },
  {
   "cell_type": "code",
   "execution_count": 5,
   "metadata": {},
   "outputs": [
    {
     "data": {
      "text/plain": [
       "{'DJI Inspire 2': 6,\n",
       " 'DJI Mavic 2 Pro': 6,\n",
       " 'DJI Mavic 2 Enterprise Advanced': 10,\n",
       " 'DJI Mavic 3': 4,\n",
       " 'DJI Mavic 2 Zoom': 9}"
      ]
     },
     "execution_count": 5,
     "metadata": {},
     "output_type": "execute_result"
    }
   ],
   "source": [
    "count_missions_for_drone(filepath)"
   ]
  },
  {
   "cell_type": "code",
   "execution_count": 6,
   "metadata": {},
   "outputs": [
    {
     "data": {
      "text/plain": [
       "{'DJI Mavic 2 Pro': <funcs.homework2.MultirotorUAV at 0x7fc074f11880>,\n",
       " 'DJI Mavic 2 Zoom': <funcs.homework2.MultirotorUAV at 0x7fc074f11640>,\n",
       " 'DJI Mavic 2 Enterprise Advanced': <funcs.homework2.MultirotorUAV at 0x7fc074f90190>,\n",
       " 'DJI Inspire 2': <funcs.homework2.MultirotorUAV at 0x7fc0852d45e0>,\n",
       " 'DJI Mavic 3': <funcs.homework2.MultirotorUAV at 0x7fc0852d4a60>}"
      ]
     },
     "execution_count": 6,
     "metadata": {},
     "output_type": "execute_result"
    }
   ],
   "source": [
    "drones"
   ]
  },
  {
   "cell_type": "code",
   "execution_count": 8,
   "metadata": {},
   "outputs": [
    {
     "name": "stdout",
     "output_type": "stream",
     "text": [
      "Model :\n",
      "\t vendor DJI model DJI Mavic 3\n",
      "\t weight 1000\n",
      "\t missions num 0\n"
     ]
    }
   ],
   "source": [
    "drones['DJI Mavic 3'].get_info()"
   ]
  }
 ],
 "metadata": {
  "kernelspec": {
   "display_name": "Python 3.6.9 64-bit",
   "language": "python",
   "name": "python3"
  },
  "language_info": {
   "codemirror_mode": {
    "name": "ipython",
    "version": 3
   },
   "file_extension": ".py",
   "mimetype": "text/x-python",
   "name": "python",
   "nbconvert_exporter": "python",
   "pygments_lexer": "ipython3",
   "version": "3.8.10"
  },
  "orig_nbformat": 4,
  "vscode": {
   "interpreter": {
    "hash": "31f2aee4e71d21fbe5cf8b01ff0e069b9275f58929596ceb00d14d90e3e16cd6"
   }
  }
 },
 "nbformat": 4,
 "nbformat_minor": 2
}
